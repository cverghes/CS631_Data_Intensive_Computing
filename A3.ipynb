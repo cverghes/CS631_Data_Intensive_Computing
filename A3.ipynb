{
  "nbformat": 4,
  "nbformat_minor": 0,
  "metadata": {
    "kernelspec": {
      "display_name": "Python 3",
      "language": "python",
      "name": "python3"
    },
    "language_info": {
      "codemirror_mode": {
        "name": "ipython",
        "version": 3
      },
      "file_extension": ".py",
      "mimetype": "text/x-python",
      "name": "python",
      "nbconvert_exporter": "python",
      "pygments_lexer": "ipython3",
      "version": "3.6.8"
    },
    "colab": {
      "provenance": [],
      "toc_visible": true
    }
  },
  "cells": [
    {
      "cell_type": "markdown",
      "metadata": {
        "id": "4yIKQ-LR5nBk"
      },
      "source": [
        "## CS431/631 Data Intensive Distributed Analytics\n",
        "### Winter 2023 - Assignment 3\n",
        "---"
      ]
    },
    {
      "cell_type": "markdown",
      "metadata": {
        "id": "iCp5Oj1e5nBn"
      },
      "source": [
        "**Please edit this (text) cell to provide your name and UW student ID number!**\n",
        "* **Name:** Chris Binoi Verghese\n",
        "* **ID:** 21092999"
      ]
    },
    {
      "cell_type": "markdown",
      "metadata": {
        "id": "vdL9NkD55nBo"
      },
      "source": [
        "---\n",
        "#### Overview\n",
        "For this assignment, you will be using Python and Spark to perform some graph analysis, using a graph of the Gnutella server network.   In this graph, each node represents a server, and each (directed) edge represents a connection between servers in Gnutella's peer-to-peer network.  The input file for this assignment, `p2p-Gnutella08-adj.txt`, represents the graph as an adjacency list.   Each server (node) is identified by a unique number, and each line in the file gives the adjacency list for a single server.\n",
        "For example, this line:\n",
        "> 91\t243\t1923\t2194\n",
        "\n",
        "gives the adjacency list for server `91`.   It indicates that there are edges from server `91` to servers `243`, `1923`, and `2194`.    According to the Stanford Network Analysis Project, which collected these data, [the graph includes 6301 servers and 20777 edges](http://snap.stanford.edu/data/p2p-Gnutella08.html).\n",
        "\n",
        "Run the following block to install Spark and download the input file."
      ]
    },
    {
      "cell_type": "code",
      "metadata": {
        "id": "3PNw3CWW5nBp"
      },
      "source": [
        "!apt-get update -qq > /dev/null\n",
        "!apt-get install openjdk-8-jdk-headless -qq > /dev/null\n",
        "!wget -q https://dlcdn.apache.org/spark/spark-3.4.2/spark-3.4.2-bin-hadoop3.tgz\n",
        "!tar xzf spark-3.4.2-bin-hadoop3.tgz\n",
        "!pip install -q findspark\n",
        "!wget -q https://student.cs.uwaterloo.ca/~cs451/content/cs431/p2p-Gnutella08-adj.txt"
      ],
      "execution_count": 1,
      "outputs": []
    },
    {
      "cell_type": "markdown",
      "metadata": {
        "id": "6rnFWG115nBq"
      },
      "source": [
        "and then create a `SparkContext`:"
      ]
    },
    {
      "cell_type": "code",
      "metadata": {
        "id": "0kx1nY435nBr"
      },
      "source": [
        "import os\n",
        "os.environ[\"JAVA_HOME\"] = \"/usr/lib/jvm/java-8-openjdk-amd64\"\n",
        "os.environ[\"SPARK_HOME\"] = \"/content/spark-3.4.2-bin-hadoop3\"\n",
        "\n",
        "import findspark\n",
        "findspark.init()\n",
        "\n",
        "from pyspark import SparkContext, SparkConf\n",
        "\n",
        "spark_conf = SparkConf()\\\n",
        "  .setAppName(\"YourTest\")\\\n",
        "  .setMaster(\"local[*]\")\n",
        "\n",
        "sc = SparkContext.getOrCreate(spark_conf)"
      ],
      "execution_count": 2,
      "outputs": []
    },
    {
      "cell_type": "markdown",
      "metadata": {
        "id": "FsQFCPO85nBs"
      },
      "source": [
        "---\n",
        "## Important\n",
        "### Watch Your Types\n",
        "###### The questions that follow ask you to implement functions whose prototypes are given to you. Do **NOT** change the prototypes of the functions.\n",
        "###### This means: Do not change the type of value returned, do not add or remove parameters.\n",
        "### No Top-Level Expressions\n",
        "###### Do **NOT** write code outside of functions. All necessary code should be included in the function body (except for import statements). You may declare functions inside of the function body. When marking, we will execute your code by calling the functions from an external program, which is why your code cannot rely on statements running outside functions. Please remove any call to the functions that you may have introduced for test purposes before submitting your notebook.  Better still, create new cells for your tests, then you do not need to remember to delete anything\n",
        "### Dummy Values\n",
        "###### The function prototypes all return a default value, labelled as a dummy.  This is so that the cell is runnable even if you do not do a question.  You should replace this value with the correct value.\n",
        "### New Cells\n",
        "###### The best way to test your code is to create a NEW code cell from which to call your functions.  We will **ONLY** run the code cells that **WE** provided.  So do not put any helper functions in these cells, unless the helper is **ONLY** for use with your tests.  Any helpers needed by your solutions themselves must go in the original code cell.  (All cells will be put into a single .py file, so you do not need to copy and paste a helper from one question to the next)"
      ]
    },
    {
      "cell_type": "markdown",
      "metadata": {
        "id": "x2xfj_3e5nBt"
      },
      "source": [
        "---\n",
        "#### Question 1  (6/24 marks):\n",
        "\n",
        "To get warmed up, you should first write Spark code to confirm or determine some basic properties of the Gnutella graph.  Write code in the provided functions that will return answers to the following questions, as specified in each function's documentation:\n",
        "- How many nodes and edges are there in the graph?  (This should confirm the numbers given above.)\n",
        "- How many nodes of each outdegree are there? That is, how many nodes have no outgoing edges, how many have one outgoing edge, how many have two outgoing edges, and so on?\n",
        "- How many nodes of each indegree are there?\n",
        "\n",
        "You should use Spark to answer these questions.   Do *not* load the entire graph into your Python driver program."
      ]
    },
    {
      "cell_type": "code",
      "metadata": {
        "id": "TnoJMCQY5nBu",
        "colab": {
          "base_uri": "https://localhost:8080/"
        },
        "outputId": "b300e6a1-a112-4c6e-ac67-6b96541ad51c"
      },
      "source": [
        "def num_nodes_edges():\n",
        "    \"\"\"Returns a tuple (num_nodes, num_edges)\"\"\"\n",
        "    #### Your code for Question 1.1 should go here\n",
        "    #RDD which holds the node and its adjacency list\n",
        "    adj_list = sc.textFile('p2p-Gnutella08-adj.txt')\\\n",
        "                  .map(lambda x: x.split('\\t'))\n",
        "    #Number of nodes is the number of adjacency lists\n",
        "    nodes = adj_list.count()\n",
        "    #The edges are calculated by taking the length-1 for each list\n",
        "    edges = adj_list.map(lambda x:len(x)-1 if len(x)!=1 else 0)\\\n",
        "                    .reduce(lambda x,y: x+y)\n",
        "    return (nodes,edges)\n",
        "\n",
        "\n",
        "def out_counts():\n",
        "    \"\"\"Returns a dictionary where the keys are the outdegrees, and the\n",
        "    values are the number of nodes of the corresponding outdegree \"\"\"\n",
        "    #### Your code for Question 1.2 should go here\n",
        "    #Outdegree dictionary got by taking length of list of nodes with same outdegree\n",
        "    out_deg = sc.textFile('p2p-Gnutella08-adj.txt')\\\n",
        "                  .map(lambda x: x.split('\\t'))\\\n",
        "                  .map(lambda x: (len(x) - 1, x[0]))\\\n",
        "                  .groupByKey().mapValues(len).sortByKey()\n",
        "    return dict(out_deg.collect())\n",
        "\n",
        "\n",
        "\n",
        "def in_counts():\n",
        "    \"\"\"Returns a dictionary where the keys are the indegrees, and the\n",
        "    values are the number of nodes of the corresponding indegree \"\"\"\n",
        "    #### Your code for Question 1.3 should go here\n",
        "\n",
        "    #Function to map each server with (node, val)\n",
        "    def in_deg_map(x):\n",
        "        #Add server with no indegree\n",
        "        ins = [(x[0],0)]\n",
        "        if len(x)>1:\n",
        "          for i in x[1:]:\n",
        "            #Add node with 1 indegree\n",
        "            ins.append((i,1))\n",
        "        return ins\n",
        "\n",
        "    #Each indegree count is calculated and used as key while the value is length of list\n",
        "    nodes = sc.textFile('p2p-Gnutella08-adj.txt')\\\n",
        "              .map(lambda x: x.split('\\t'))\\\n",
        "              .flatMap(in_deg_map).reduceByKey(lambda x,y: x+y)\\\n",
        "              .map(lambda x: (x[1],x[0]))\\\n",
        "              .groupByKey().mapValues(len)\n",
        "    return dict(sorted(nodes.collect()))\n",
        "\n",
        "\n",
        "print(num_nodes_edges())\n",
        "print(out_counts())\n",
        "print(in_counts())"
      ],
      "execution_count": null,
      "outputs": [
        {
          "output_type": "stream",
          "name": "stdout",
          "text": [
            "(6301, 20777)\n",
            "{0: 3836, 1: 294, 2: 28, 3: 16, 4: 28, 5: 107, 6: 10, 7: 9, 8: 44, 9: 372, 10: 1531, 11: 1, 12: 3, 13: 2, 14: 2, 17: 4, 18: 2, 19: 1, 22: 1, 24: 1, 25: 1, 28: 1, 29: 1, 31: 1, 34: 1, 41: 1, 46: 1, 47: 1, 48: 1}\n",
            "{0: 80, 1: 2452, 2: 1287, 3: 868, 4: 559, 5: 333, 6: 227, 7: 144, 8: 76, 9: 70, 10: 37, 11: 29, 12: 23, 13: 19, 14: 13, 15: 8, 16: 1, 18: 2, 19: 2, 20: 4, 21: 2, 22: 1, 23: 1, 25: 1, 27: 1, 30: 1, 31: 2, 32: 2, 33: 1, 35: 1, 38: 1, 41: 1, 44: 1, 47: 2, 49: 1, 50: 1, 51: 1, 52: 1, 54: 1, 55: 1, 56: 2, 57: 1, 59: 1, 60: 3, 61: 1, 62: 2, 63: 1, 66: 2, 67: 3, 69: 2, 70: 3, 71: 3, 72: 2, 73: 2, 74: 1, 77: 2, 78: 1, 79: 1, 81: 4, 82: 1, 83: 1, 85: 1, 86: 1, 87: 1, 91: 1}\n"
          ]
        }
      ]
    },
    {
      "cell_type": "markdown",
      "metadata": {
        "id": "jNp6bYDY5nBv"
      },
      "source": [
        "---\n",
        "Your main objective for this assignment is to perform *single source personalized page rank* over the Gnutella graph.  To get started, you should make sure that you have a clear understanding of ordinary (i.e., non-personalized) page rank.  Read the description of page rank in Section 5.3 of [the course textbook](https://lintool.github.io/MapReduceAlgorithms/index.html).   Personalized page rank is like ordinary page rank except:\n",
        "- One node in the graph is designated as the *source* node. Personalized page rank is performed with respect to that source node.\n",
        "- Personalized page rank is initialized by assigning all probability mass to the source node, and none to the other nodes. In contrast, ordinary page rank is initialized by giving all nodes the same probability mass.\n",
        "- Whenever personalized page rank makes a random jump, it jumps back to the source node. In contrast, ordinary page rank may jump to any node.\n",
        "- In personalized page rank, all probability mass lost dangling nodes is put back into the source nodes.  In ordinary page rank, lost mass is distributed evenly over all nodes.\n",
        "\n",
        "#### Question 2  (10/24 marks):\n",
        "\n",
        "Your task is to write a Spark program to perform personalized page rank over the Gnutella graph for a specified number of iterations, and of course a specific node. The function you will implement takes three input values:\n",
        "- source node id (a non-negative integer)\n",
        "- iteration count (a positive integer)\n",
        "- random jump factor value (a float between 0 and 1) - This is 1-B as introduced in the lecture.\n",
        "\n",
        "The function should perform personalized page rank, with respect to the specified source node, over the Gnutella graph, for the specified number of iterations, using Spark.\n",
        "The output of your function should be a list of the 10 nodes with the highest personalized page rank with respect to the given source. For each of the 10 nodes, return the node's id and page rank value as a tuple. The list returned by the function should therefore look something like this: `[(node_id_1, highest_pagerank_value), ..., (node_id_10, 10th_highest_pagerank_value)]`"
      ]
    },
    {
      "cell_type": "code",
      "metadata": {
        "id": "7oo6ny035nBv",
        "colab": {
          "base_uri": "https://localhost:8080/"
        },
        "outputId": "cd1b6b9b-5baf-495a-93a4-cbd51f874dcb"
      },
      "source": [
        "def personalized_page_rank(source_node_id, num_iterations, jump_factor):\n",
        "    \"\"\"Returns a list of the 10 nodes with the highest page rank value along with their value, as tuples\n",
        "    [(node_id_1, highest_pagerank_value), ..., (node_id_10, 10th_highest_pagerank_value)]\"\"\"\n",
        "    # your solution to Question 2 here\n",
        "\n",
        "    #Function which returns the node's page rank and impact on source node rank\n",
        "    def pow_iter(x):\n",
        "        out_nodes = x[1][0]\n",
        "        node_rank = x[1][1]\n",
        "        updated = [(source_node_id,node_rank*jump_factor)]\n",
        "        out_deg = len(out_nodes)\n",
        "        #If it is dead end, send rank to source to not sink rank\n",
        "        if out_deg == 0:\n",
        "          return [(source_node_id,node_rank)]\n",
        "        #Calculate and append updated rank for each node\n",
        "        for j in out_nodes:\n",
        "          updated.append((int(j),node_rank * (1- jump_factor)/out_deg))\n",
        "        return updated\n",
        "\n",
        "    #RDD of each node and its out nodes\n",
        "    adj_list = sc.textFile('p2p-Gnutella08-adj.txt')\\\n",
        "                 .map(lambda x: x.split('\\t'))\\\n",
        "                 .map(lambda x: (int(x[0]),x[1:])).cache()\n",
        "    #An initial page rank where only the source has rank\n",
        "    page_rank = adj_list.map(lambda x: (x[0],0) if int(x[0]) != source_node_id else (x[0],1))\n",
        "    #Loop to iterate for convergence of rank\n",
        "    for i in range(num_iterations):\n",
        "      #Combine previous page rank with adjacency list\n",
        "      rank=adj_list.join(page_rank)\n",
        "      #Get the updated page ranks\n",
        "      page_rank = rank.flatMap(pow_iter).reduceByKey(lambda x,y: x+y)\n",
        "      #print(page_rank.sortBy(lambda x: x[1],ascending=False).take(10))\n",
        "      #print(page_rank.map(lambda pair: pair[1]).reduce(lambda x,y: x+y))\n",
        "    return page_rank.sortBy(lambda x: x[1],ascending=False).take(10)\n",
        "\n",
        "personalized_page_rank(0,10,0.15)\n"
      ],
      "execution_count": null,
      "outputs": [
        {
          "output_type": "execute_result",
          "data": {
            "text/plain": [
              "[(0, 0.3674273310683574),\n",
              " (9, 0.03286603326766931),\n",
              " (5, 0.03278391109520568),\n",
              " (7, 0.03269468512330566),\n",
              " (4, 0.03258901692214278),\n",
              " (8, 0.03196526429736632),\n",
              " (3, 0.03195278515151265),\n",
              " (10, 0.031415879346148326),\n",
              " (2, 0.031234246955940237),\n",
              " (1, 0.031233626242360167)]"
            ]
          },
          "metadata": {},
          "execution_count": 14
        }
      ]
    },
    {
      "cell_type": "markdown",
      "metadata": {
        "id": "RmZAajwV5nBw"
      },
      "source": [
        "---\n",
        "#### Question 3  (4/24 marks):\n",
        "\n",
        "For the previous question, you implemented personalized page rank that ran for a specified number of iterations.  However, it is also common to write iterative algorithms that run until some specified termination condition is reached.\n",
        "For example, for page rank, suppose the $p_i(x)$ represents the probability mass assigned to node $x$ after the $i$th iteration of the algorithm.  ($p_0(x)$ is the initial probability mass of node $x$.)   We define the change of $x$'s probability mass on the $i$th iteration as $\\lvert p_i(x)-p_{i-1}(x) \\rvert$.   Then, we can iterate personalized page rank until the maximum (over all nodes) change is less than a specified threshold, i.e, until all nodes' page ranks have converged.\n",
        "\n",
        "For this question, modify your personalized page rank implementation from Question 2 so that it iterates until the\n",
        "maximum node change is less than $\\frac{0.5}{N}$, where $N$ represents the number of nodes in the graph.\n",
        "This version of the function should take only two inputs: the source node id and the random jump factor."
      ]
    },
    {
      "cell_type": "code",
      "metadata": {
        "id": "whRf8BnZ5nBx",
        "colab": {
          "base_uri": "https://localhost:8080/"
        },
        "outputId": "417c8d16-608f-4ae5-82b8-80799598ef8e"
      },
      "source": [
        "def personalized_page_rank_stopping_criterion(source_node_id, jump_factor):\n",
        "    \"\"\"Returns a list of the 10 nodes with the highest page rank value along with their value, as tuples\n",
        "    [(node_id_1, highest_pagerank_value), ..., (node_id_10, 10th_highest_pagerank_value)]\"\"\"\n",
        "    # your solution to Question 3 here\n",
        "\n",
        "    #Function which returns the node's page rank and impact on source node rank\n",
        "    def pow_iter(x):\n",
        "        out_nodes = x[1][0]\n",
        "        node_rank = x[1][1]\n",
        "        updated = [(source_node_id,node_rank*jump_factor)]\n",
        "        out_deg = len(out_nodes)\n",
        "        #If it is dead end, send rank to source to not sink rank\n",
        "        if out_deg == 0:\n",
        "          return [(source_node_id,node_rank)]\n",
        "        #Calculate and append updated rank for each node\n",
        "        for j in out_nodes:\n",
        "          updated.append((int(j),node_rank * (1- jump_factor)/out_deg))\n",
        "        return updated\n",
        "\n",
        "\n",
        "    adj_list = sc.textFile('p2p-Gnutella08-adj.txt')\n",
        "    #Threshold\n",
        "    prob = 0.5 / adj_list.count()\n",
        "    #RDD of each node and its out nodes\n",
        "    adj_list = adj_list.map(lambda x: x.split('\\t'))\\\n",
        "                 .map(lambda x: (int(x[0]),x[1:])).cache()\n",
        "    #An initial page rank where only the source has rank\n",
        "    page_rank = adj_list.map(lambda x: (x[0],0) if int(x[0]) != source_node_id else (x[0],1))\n",
        "    #Loop to iterate for convergence of rank\n",
        "    while(True):\n",
        "      #Combine previous page rank with adjacency list\n",
        "      rank=adj_list.join(page_rank)\n",
        "      #Get the updated page ranks\n",
        "      page_rank = rank.flatMap(pow_iter).reduceByKey(lambda x,y: x+y).cache()\n",
        "      #Get the max change in rank\n",
        "      maximum = rank.join(page_rank).map(lambda x: abs(x[1][0][1]- x[1][1])).reduce(max)\n",
        "      #If maximum change in rank is below the set threshold convergence is met\n",
        "      if ( maximum <= prob ):\n",
        "          break\n",
        "    return page_rank.sortBy(lambda x: x[1],ascending=False).take(10)\n",
        "\n",
        "\n",
        "personalized_page_rank_stopping_criterion(0,0.15)"
      ],
      "execution_count": 6,
      "outputs": [
        {
          "output_type": "execute_result",
          "data": {
            "text/plain": [
              "[(0, 0.3674273310683574),\n",
              " (9, 0.03286603326766931),\n",
              " (5, 0.03278391109520568),\n",
              " (7, 0.03269468512330566),\n",
              " (4, 0.03258901692214278),\n",
              " (8, 0.03196526429736632),\n",
              " (3, 0.03195278515151265),\n",
              " (10, 0.031415879346148326),\n",
              " (2, 0.031234246955940237),\n",
              " (1, 0.031233626242360167)]"
            ]
          },
          "metadata": {},
          "execution_count": 6
        }
      ]
    },
    {
      "cell_type": "markdown",
      "metadata": {
        "id": "suYKj6_S5nBy"
      },
      "source": [
        "---\n",
        "#### Question 4  (4/24 marks):\n",
        "\n",
        "Spark provides the ability to *cache* RDDs.   This is useful when an RDD will be used more than once.   Instead of computing the same RDD multiple times, it can be computed once, cached, and then re-used from the cache.   Read about caching in the Spark textbook, or in the [persistence section of the Spark RDD programming guide](https://spark.apache.org/docs/latest/rdd-programming-guide.html#rdd-persistence).   Caching can be particularly effective for iterative Spark applications, like those you are writing for this assignment.\n",
        "\n",
        "For this question, go back to the code that you wrote to answer Question 3, and add caching.   (Caching will not affect the functionality of your code, i.e., what it computes.   It should only affect performance.)   Don't worry about different persistence levels.   Just use `cache()`, which caches RDDs at the default persistence level.\n",
        "\n",
        "In addition to adding `cache()` calls in your code, use the text cell below to briefly explain how you decided which RDDs to cache.\n",
        "\n",
        "If you were not able to finish Question 3, add caching annotations to your solution for Question 2 instead.\n",
        "\n",
        "IMPORTANT: Because the files are small, the OS will retain the intermediate shuffle files so you won't actually see any improvement in you running times! (This means you have to think about what to cache rather than trying various places to trial and error it)."
      ]
    },
    {
      "cell_type": "markdown",
      "metadata": {
        "id": "A_fRhytv5nBy"
      },
      "source": [
        "---\n",
        "#### Your answer to Question 4:\n",
        "\n",
        "I decided to cache the RDD which contains the node and its respective adjacency list called 'adj_list' as well as the newly calculated page rank values from each iteration which is stored in the RDD 'page_rank'.\n",
        "\n",
        "The reasons behind deciding to cache adj_list was because it is computed only once after which its value is used in every iteration of the page rank algorithm. As such caching it will improve performance as it ensures that the data is kept in memory, reducing the overhead of reading the file and computing the adjacency list in each iteration.\n",
        "\n",
        "The RDD 'page_rank' is also cached to improve improve performance. It is not reused to the same extent as adj_list however since page_rank's value are used more than once and over multiple iterations, caching it ensures that the intermediate results are kept in memory, avoiding recomputation of the entire RDD in each iteration. This is the reason why the RDD 'rank' containing the previous page rank is not cached, i.e. it is used only in one iteration at a time.\n",
        "\n"
      ]
    },
    {
      "cell_type": "markdown",
      "metadata": {
        "id": "4AAWthLp5nBz"
      },
      "source": [
        "---\n",
        "Don't forget to save your workbook!   When you are finished and you are ready to submit your assignment, download your notebook file (.ipynb) from the hub to your machine, and then follow the submission instructions in the assignment."
      ]
    }
  ]
}