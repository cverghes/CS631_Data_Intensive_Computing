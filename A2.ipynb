{
  "cells": [
    {
      "cell_type": "markdown",
      "metadata": {
        "id": "kNwlw_9ObJxP"
      },
      "source": [
        "## CS431/631 Data Intensive Distributed Analytics\n",
        "### Winter 2023 - Assignment 2\n",
        "---"
      ]
    },
    {
      "cell_type": "markdown",
      "metadata": {
        "id": "3mSm7EZpbJxb"
      },
      "source": [
        "**Please edit this (text) cell to provide your name and UW student ID number!**\n",
        "* **Name:** Chris Binoi Verghese\n",
        "* **ID:** 21092999"
      ]
    },
    {
      "cell_type": "markdown",
      "metadata": {
        "id": "fZI90WX2bJxc"
      },
      "source": [
        "---\n",
        "#### Overview\n",
        "For this assignment, you will be using Python and Spark to analyze the [pointwise mutual information (PMI)](http://en.wikipedia.org/wiki/Pointwise_mutual_information) of tokens in the text of Shakespeare's plays.    For this assignment, you will need the same text file (`Shakespeare.txt`) and Python tokenizer module, `simple_tokenize.py`, that you used for the first two assignments.    You will also use the same definition of PMI that was used for [Assignment 1](https://www.student.cs.uwaterloo.ca/~cs451/assignment1-431.html).\n",
        "\n",
        "We first need to install Apache Spark. Run the next block to download and install Spark. It will take about a minute to finish the instalation."
      ]
    },
    {
      "cell_type": "code",
      "execution_count": null,
      "metadata": {
        "id": "lh5NCoc8fsSO"
      },
      "outputs": [],
      "source": [
        "!apt-get update -qq > /dev/null\n",
        "!apt-get install openjdk-8-jdk-headless -qq > /dev/null\n",
        "!wget -q https://dlcdn.apache.org/spark/spark-3.3.4/spark-3.3.4-bin-hadoop3.tgz\n",
        "!tar xzf spark-3.3.4-bin-hadoop3.tgz\n",
        "!pip install -q findspark"
      ]
    },
    {
      "cell_type": "markdown",
      "metadata": {
        "id": "TEtWJXrebsdE"
      },
      "source": [
        "To use Spark from within a Python program, it is first necessary to tell the Python interpreter where the Spark installation is located. The code in the following cell tells Python how to find this Spark installation. This code creates SparkContext (sc) for you. Do not change this block."
      ]
    },
    {
      "cell_type": "code",
      "execution_count": null,
      "metadata": {
        "id": "Xnxe-BhPmbBW"
      },
      "outputs": [],
      "source": [
        "import os\n",
        "os.environ[\"JAVA_HOME\"] = \"/usr/lib/jvm/java-8-openjdk-amd64\"\n",
        "os.environ[\"SPARK_HOME\"] = \"/content/spark-3.3.4-bin-hadoop3\"\n",
        "\n",
        "import findspark\n",
        "findspark.init()\n",
        "\n",
        "from pyspark import SparkContext, SparkConf\n",
        "\n",
        "spark_conf = SparkConf()\\\n",
        "  .setAppName(\"YourTest\")\\\n",
        "  .setMaster(\"local[*]\")\n",
        "\n",
        "sc = SparkContext.getOrCreate(spark_conf)"
      ]
    },
    {
      "cell_type": "markdown",
      "metadata": {
        "id": "Wk4QOfCtbJxe"
      },
      "source": [
        "Once Python knows where Spark is located, you can create a `SparkContext`.   All Spark commands must run within an active `SparkContext`.   The code below will create a `SparkContext`, and store a reference to the context in the variable `sc`.\n",
        "The `appName` parameter assigns a name of your choosing to the Spark jobs that are created in this context - this is useful mostly for debugging.   The `master` parameter indicates that Spark jobs will run in local mode, using two threads.   This means that your Spark jobs are not really running on a cluster, and are instead running in a single process on the local machine.   You program Spark jobs the same way whether they run in local mode or on a cluster - the main difference between local and cluster modes is, of course, performance.\n",
        "\n",
        "Next, let's test that your `SparkContext` has been set up properly by running some simple test code.   This code uses a single Spark job to estimate the value of Euler's number $e$. One way to calculate $e$ is to use the following serries by Jacob Bernoulli:\n",
        "\n",
        "$p_n = 1 - \\frac{1}{1!} + \\frac{1}{2!} - \\frac{1}{3!} + \\cdots + \\frac{(-1)^n}{n!} = \\sum_{k = 0}^n \\frac{(-1)^k}{k!}$\n",
        "\n",
        "As n tends to infinity, $p_n$ approaches $1/e$.\n",
        "\n",
        "In the following code,  `parallelize()` and `map()` are Spark *transformations*, and `reduce()` is a Spark *action*.   Study the code in the cell below, then go ahead and run it.   It should take several seconds, since a Spark job is being created and executed, and should print an estimate of $e$ when it finishes.   \n"
      ]
    },
    {
      "cell_type": "code",
      "execution_count": null,
      "metadata": {
        "colab": {
          "base_uri": "https://localhost:8080/"
        },
        "id": "octW5eVWbJxg",
        "outputId": "87f71bd8-d36e-4a05-ffae-42cfc0319d90"
      },
      "outputs": [
        {
          "output_type": "stream",
          "name": "stdout",
          "text": [
            "e =  2.718281828459044\n"
          ]
        }
      ],
      "source": [
        "import math\n",
        "\n",
        "n= 10000\n",
        "inverse_e = sc.parallelize(range(0, n)).map(lambda x: ((-1)**x) * (1 / math.factorial(x))).reduce(lambda x,y:x+y)\n",
        "e = 1 / inverse_e\n",
        "print(\"e = \", e)"
      ]
    },
    {
      "cell_type": "markdown",
      "metadata": {
        "id": "AD9CXMDmbJxg"
      },
      "source": [
        "---\n",
        "#### Question 1  (4/30 marks):\n",
        "\n",
        "In the following cell, briefly explain how the example works.   What is the Spark job doing, and how is it used to estimate the value of $e$? How accurate is our estimate?"
      ]
    },
    {
      "cell_type": "markdown",
      "metadata": {
        "id": "eBiT9mjQbJxh"
      },
      "source": [
        "#### Your answer to Question 1:\n",
        "\n",
        "First, a Spark context is created, partitioning RDDs from a list ranging from 0 to 9999, such as [0, 1, 2, ..., 9999]. Subsequently, each element in the partitioned RDDs is mapped to its corresponded result creating a new RDD of transformed values using the mathematical function where x represents every element:  $$f(x)=\\frac{(-1)^x}{x!}$$ Following this, RDDs from every worker are reduced(aggregated) , summing every element of the list into a single integer value. Resulting in an equation: $$inverse\\_e=\\sum_{x=0}^{9999} \\frac{(-1)^x}{x!}$$ Lastly, the reciprocal of this value is then assigned to 'e'.\n",
        "\n",
        "\n",
        "This method for calculating 'e' utilizes the Taylor series expansion for the exponential function, and the accuracy of the calculated 'e' is contingent on the value of \"n,\" i.e., the number of terms summed in the series. The larger the number of terms summed, the more accurate the estimate. In this case, using 10000 terms gives a reasonably accurate value. The estimated value, as per the Python code, is 2.718281828459044. The accepted value of 'e' is 2.718281828459045, making this approximation extremely close."
      ]
    },
    {
      "cell_type": "markdown",
      "metadata": {
        "id": "viOD-n5_bJxh"
      },
      "source": [
        "---\n",
        "### Important\n",
        "\n",
        "###### The questions that follow ask you to implement functions whose prototypes are given to you. Do **NOT** change the prototypes of the functions. Do **NOT** write code outside of the functions. All necessary code should be included in the function body (except for import statements). You may declare functions inside of the function body. When marking, we will execute your code by calling the functions from an external program, which is why your code cannot rely on statements running outside functions. Please remove any call to the functions that you may have introduced for test purposes before submitting your notebook."
      ]
    },
    {
      "cell_type": "markdown",
      "metadata": {
        "id": "r9MQQIQhP6Av"
      },
      "source": [
        "Note: On this and the following assignment you will typically be told to use Spark, not the Python driver program.\n",
        "That doesn't mean \"do not use Python\"! It means you should do as much as possible using RDD transformations and actions, and little-to-nothing in the driver itself.\n",
        "\n",
        "Example:\n",
        "\n",
        "`someRDD.collect()[:10]` - this is bad! It's collecting *all* of the data onto the driver when we were only looking for 10  \n",
        "`someRDD.take(10)` - much better!\n",
        "\n",
        "Extra examples of what not to do:\n",
        "\n",
        "`sc.parallelize(myFile.readlines())` - no! Have the cluster load the file using `sc.textFile()` instead!\n",
        "\n",
        "`newRDD = sc.parallelize(<some computation>.collect())` - no!  \n",
        "`newRDD = <some computation>` - yes!"
      ]
    },
    {
      "cell_type": "markdown",
      "metadata": {
        "id": "KgkmAOV9bJxi"
      },
      "source": [
        "---\n",
        "#### Question 2  (4/30 marks):\n",
        "\n",
        "Now it is your turn to write some Spark programs. Start with the simple task of counting the number of *distinct* tokens which appear in `Shakespeare.txt`.   You have already written Python code to do this in Assignment 1, but for this assignment we want you to use Spark to solve the same problem.   You should compare the answer you get using Spark with the answer you got from your pure-Python solution from Assignment 1.   Both answers should, of course, be the same.\n",
        "\n",
        "Run the next block to download the text file (Shakespeare.txt) and the Python tokenizer module (simple_tokenize.py)."
      ]
    },
    {
      "cell_type": "code",
      "execution_count": null,
      "metadata": {
        "id": "rcXDTtuqENqF"
      },
      "outputs": [],
      "source": [
        "!wget -q https://student.cs.uwaterloo.ca/~cs451/content/cs431/Shakespeare.txt\n",
        "!wget -q https://student.cs.uwaterloo.ca/~cs451/content/cs431/simple_tokenize.py"
      ]
    },
    {
      "cell_type": "markdown",
      "metadata": {
        "id": "hYH29hFxyeu6"
      },
      "source": [
        "Your code should use Spark, not the Python driver code, to read `Shakespeare.txt` and do the counting.   The idea is to use Spark to give you a data-parallel alternative to the sequential Python solution you wrote for Assignment 1.\n",
        "\n",
        "Write your solution for question 2 in the code cell below, by implementing the `count_distinct_tokens` function. It should use the `SparkContext` which was created previously (referenced by the variable `sc`). The function `count_distinct_tokens` must return the number of distinct tokens."
      ]
    },
    {
      "cell_type": "code",
      "execution_count": null,
      "metadata": {
        "id": "PuFxV3z8bJxi",
        "colab": {
          "base_uri": "https://localhost:8080/"
        },
        "outputId": "1fcf2d95-36cd-4412-c192-b44fb49e1e57"
      },
      "outputs": [
        {
          "output_type": "execute_result",
          "data": {
            "text/plain": [
              "25975"
            ]
          },
          "metadata": {},
          "execution_count": 9
        }
      ],
      "source": [
        "from simple_tokenize import simple_tokenize\n",
        "\n",
        "# Returns the count of distinct tokens in the `Shakespeare.txt` dataset\n",
        "def count_distinct_tokens():\n",
        "    #creates an RDD of list [(x,n)]\n",
        "    #x is a token and n is its count\n",
        "    tokens = sc.textFile('Shakespeare.txt')\\\n",
        "    .flatMap(simple_tokenize)\\\n",
        "    .map(lambda x: (x,1))\\\n",
        "    .reduceByKey(lambda x,y: x+y)\n",
        "    return tokens.count()\n",
        "\n",
        "count_distinct_tokens()"
      ]
    },
    {
      "cell_type": "markdown",
      "metadata": {
        "id": "0dabXKIkP6Aw"
      },
      "source": [
        "Since the input file is the same as it was in A1 you should get the same ~26K as you got then."
      ]
    },
    {
      "cell_type": "markdown",
      "metadata": {
        "id": "nHPRYLElbJxj"
      },
      "source": [
        "---\n",
        "#### Question 3  (4/30 marks):\n",
        "\n",
        "Next, write a Spark program that will count the number of distinct token pairs in `Shakespeare.txt`, as you did in Assignment 1. Again, ensure that the answer that you get using Spark matches the answer you got in the first assignment.\n",
        "\n",
        "Write your solution for question 3 by implementing the `count_distinct_pairs` function in the code cell below.   It should use the `SparkContext` which was created previously (referenced by the variable `sc`). The function `count_distinct_pairs` must return the number of distinct token pairs.\n",
        "\n"
      ]
    },
    {
      "cell_type": "code",
      "execution_count": 11,
      "metadata": {
        "id": "n43vVrAebJxk",
        "colab": {
          "base_uri": "https://localhost:8080/"
        },
        "outputId": "0dca80ab-e614-4441-f5c2-eed0fef64426"
      },
      "outputs": [
        {
          "output_type": "stream",
          "name": "stdout",
          "text": [
            "1969760\n"
          ]
        }
      ],
      "source": [
        "from simple_tokenize import simple_tokenize\n",
        "\n",
        "# Returns the count of distinct pairs in the `Shakespeare.txt` dataset\n",
        "def count_distinct_pairs():\n",
        "    #creates an RDD of list [((x1,x2),n)]\n",
        "    #(x1,x2) is a token pair from line and n is its count\n",
        "    token_pairs = sc.textFile('Shakespeare.txt')\\\n",
        "    .map(simple_tokenize)\\\n",
        "    .flatMap(lambda x: [(x[i], x[j]) for i in range(len(x)) for j in range(len(x)) if x[i] != x[j]])\n",
        "    distinct = token_pairs.map(lambda x: (x,1)).reduceByKey(lambda x,y: x+y)\n",
        "    return distinct.count()\n",
        "\n",
        "count_distinct_pairs()"
      ]
    },
    {
      "cell_type": "markdown",
      "metadata": {
        "id": "XhsFAXVdP6Aw"
      },
      "source": [
        "Again, you should be getting just shy of 2M here, the same value you got on A1."
      ]
    },
    {
      "cell_type": "markdown",
      "metadata": {
        "id": "lUUpIg1zbJxk"
      },
      "source": [
        "---\n",
        "#### Question 4  (6/30 marks):\n",
        "\n",
        "Next, write Spark code that will calculate the probability $p(x)$ (as defined in Assignment 1) for every distinct token $x$ in `Shakespeare.txt`.   Your function should return the 50 highest-probability tokens, and their counts and probabilities.\n",
        "\n",
        "Make sure that your solution calculates probabilities and identifies the 50 highest-probability tokens in a data-parallel fashion, using Spark transformations and actions.   Only the 50 highest-probability tokens (and their counts and probabilities) should be returned by Spark to your driver code.\n",
        "\n",
        "Write your solution for question 4 by implementing the `top_50_tokens_probabilities` function in the code cell below. It should use the `SparkContext` which was created previously (referenced by the variable `sc`). The function `top_50_tokens_probabilities` must return a list of 50 (probability, count, token) tuples, ordered by probability, that is, the list returned by the function should be of the form: `[(proba1, count1, token1), (proba2, count2, token2), ..., (proba50, count50, token50)]`"
      ]
    },
    {
      "cell_type": "code",
      "execution_count": 12,
      "metadata": {
        "id": "TmKHDBW9bJxl",
        "colab": {
          "base_uri": "https://localhost:8080/"
        },
        "outputId": "5c08e825-2919-47e0-f404-e6447618d90b"
      },
      "outputs": [
        {
          "output_type": "execute_result",
          "data": {
            "text/plain": [
              "[(0.2009178657172255, 24604, 'and'),\n",
              " (0.19843538192686472, 24300, 'the'),\n",
              " (0.1523542765682928, 18657, 'i'),\n",
              " (0.148924529226347, 18237, 'to'),\n",
              " (0.1357526662202551, 16624, 'of'),\n",
              " (0.10844534452628657, 13280, 'a'),\n",
              " (0.09959332995802643, 12196, 'you'),\n",
              " (0.09430988583840991, 11549, 'my'),\n",
              " (0.08667461497003054, 10614, 'in'),\n",
              " (0.08630714204053634, 10569, 'that'),\n",
              " (0.07150206601447026, 8756, 'is'),\n",
              " (0.06720671577193814, 8230, 'not'),\n",
              " (0.06167012363422561, 7552, 'with'),\n",
              " (0.06039621747864574, 7396, 'me'),\n",
              " (0.05982459292165477, 7326, 'for'),\n",
              " (0.05836286726877787, 7147, 'it'),\n",
              " (0.054402325695340446, 6662, 'be'),\n",
              " (0.05246696826667102, 6425, 'this'),\n",
              " (0.05228731483447386, 6403, 'his'),\n",
              " (0.050899083767495794, 6233, 'your'),\n",
              " (0.05067043394469941, 6205, 'but'),\n",
              " (0.0474938346208496, 5816, 'he'),\n",
              " (0.046889545803459144, 5742, 'have'),\n",
              " (0.04132028940534714, 5060, 'thou'),\n",
              " (0.04015254209606559, 4917, 'as'),\n",
              " (0.03952375508337552, 4840, 'him'),\n",
              " (0.03949109082297604, 4836, 'so'),\n",
              " (0.039450260497476686, 4831, 'will'),\n",
              " (0.03515491025494455, 4305, 'what'),\n",
              " (0.031227032941906614, 3824, 'all'),\n",
              " (0.030630910189616032, 3751, 'thy'),\n",
              " (0.029716310898430482, 3639, 'by'),\n",
              " (0.02961015205213216, 3626, 'do'),\n",
              " (0.028981365039442094, 3549, 'no'),\n",
              " (0.028858874062944028, 3534, 'shall'),\n",
              " (0.02820558885495435, 3454, 'her'),\n",
              " (0.028164758529454995, 3449, 'if'),\n",
              " (0.026915350569174736, 3296, 'are'),\n",
              " (0.0255189534370968, 3125, 'we'),\n",
              " (0.024890166424406734, 3048, 'thee'),\n",
              " (0.024294043672116156, 2975, 'on'),\n",
              " (0.024032729588920283, 2943, 'lord'),\n",
              " (0.023599928138627123, 2890, 'our'),\n",
              " (0.022946642930637442, 2810, 'king'),\n",
              " (0.022268859527348153, 2727, 'good'),\n",
              " (0.02224436133204854, 2724, 'now'),\n",
              " (0.021468585147560795, 2629, 'sir'),\n",
              " (0.021190938934165182, 2595, 'from'),\n",
              " (0.02067647683287331, 2532, 'o'),\n",
              " (0.020096686210782474, 2461, 'at')]"
            ]
          },
          "metadata": {},
          "execution_count": 12
        }
      ],
      "source": [
        "from simple_tokenize import simple_tokenize\n",
        "\n",
        "# Returns a list of the top 50 (probability, count, token) tuples, ordered by probability\n",
        "def top_50_tokens_probabilities():\n",
        "  #RDD for all lines in Shakespeare.txt\n",
        "  lines = sc.textFile('Shakespeare.txt')\n",
        "  #Number of lines in txt file\n",
        "  total_lines = lines.count()\n",
        "  #List of all tokens in the file\n",
        "  tokens = lines.flatMap(lambda x: set(simple_tokenize(x)))\n",
        "  # Creates RDD of tuples with token count\n",
        "  distinct = tokens.map(lambda x: (x,1)).reduceByKey(lambda x,y: (x+y))\n",
        "  #Sorting token count using number of occurances\n",
        "  sorted = distinct.map(lambda x: (x[1], x[0])).sortByKey(False)\n",
        "  #Top 50 valuesof token appearances\n",
        "  prob_token = sorted.map(lambda x: (x[0]/total_lines,x[0], x[1])).take(50)\n",
        "  return prob_token\n",
        "\n",
        "\n",
        "top_50_tokens_probabilities()"
      ]
    },
    {
      "cell_type": "markdown",
      "metadata": {
        "id": "YAwWAPFOP6Ax"
      },
      "source": [
        "Hint: \"and\" is the most frequent token, and \"the\" is close."
      ]
    },
    {
      "cell_type": "markdown",
      "metadata": {
        "id": "h7FJUeGTbJxl"
      },
      "source": [
        "---\n",
        "#### Question 5  (6/30 marks):\n",
        "\n",
        "Next, write the code for the function `PMI` that will take a positive integer threshold $T$ as an argument, and then return all token pairs that co-occur at least $T$ times in `Shakespeare.txt`.   For each such pair $(x,y)$, the function should also return PMI$(x,y)$, the co-occurrence count of the pair, the number of times $x$ appears, and the number of times $y$ appears. You can compare the results produced by this code with the results of Two-Token queries (from Assignment 1) for consistency.\n",
        "\n",
        "Write your solution for question 5 by implementing the function `PMI` in the code cell below. It should use the `SparkContext` which was created previously (referenced by the variable `sc`). The function `PMI` should return a list of ((token1, token2), pmi, co-occurrence_count, token1_count, token2_count) tuples, that is, the list returned by the function should be of the form: `[((token1, token2), pmi, cooc_count, token1_count, token2_count), (...), ((other_token1, other_token2), other_pmi, other_cooc_count, other_token1_count, other_token2_count)]`.\n",
        "\n",
        "\n",
        "As always, calculations should be done in data-parallel fashion by using Spark.\n",
        "\n",
        "Note: You're using a \"pairs\" approach here, since the key is a pair of tokens! Also, if converted to a dictionary, this list is able to answer two-token queries from A1!"
      ]
    },
    {
      "cell_type": "code",
      "execution_count": 16,
      "metadata": {
        "id": "MZMY3pI9bJxm",
        "colab": {
          "base_uri": "https://localhost:8080/"
        },
        "outputId": "957f6838-59e0-40de-f14a-ee7c652ab2a8"
      },
      "outputs": [
        {
          "output_type": "execute_result",
          "data": {
            "text/plain": [
              "[(('to', 'the'), 0.05123525982989819, 4072, 18237, 24300),\n",
              " (('the', 'to'), 0.05123525982989819, 4072, 24300, 18237),\n",
              " (('the', 'and'), 0.0459349918330654, 5427, 24300, 24604),\n",
              " (('and', 'the'), 0.0459349918330654, 5427, 24604, 24300),\n",
              " (('of', 'the'), 0.34294075191889295, 7266, 16624, 24300),\n",
              " (('the', 'of'), 0.34294075191889295, 7266, 24300, 16624)]"
            ]
          },
          "metadata": {},
          "execution_count": 16
        }
      ],
      "source": [
        "from simple_tokenize import simple_tokenize\n",
        "from math import log\n",
        "\n",
        "# Returns a list of tuples with the following format:\n",
        "# ((token1, token2), pmi, co-occurrence_count, token1_count, token2_count)\n",
        "def PMI(threshold):\n",
        "    #Function to calculate the PMI value of a token pair\n",
        "    def PMI_value(token1_count, token2_count, line_num, pair_count):\n",
        "        p_token0 = token1_count/line_num\n",
        "        p_token1 = token2_count/line_num\n",
        "        #Probability of occurance of token pair\n",
        "        p_token_pair = pair_count/ line_num\n",
        "        return log(p_token_pair/(p_token0 * p_token1),10)\n",
        "    #RDD for all lines in Shakespeare.txt\n",
        "    lines = sc.textFile('Shakespeare.txt')\n",
        "    lines.cache()\n",
        "    #Number of lines in txt file\n",
        "    line_num = lines.count()\n",
        "    #List of all tokens in the file\n",
        "    tokens = lines.flatMap(lambda x: set(simple_tokenize(x)))\n",
        "    # Creates RDD of tuples with token count\n",
        "    distinct = tokens.map(lambda x: (x,1)).reduceByKey(lambda x,y: (x+y))\n",
        "    distinct.cache()\n",
        "    #creates an RDD of list [((x1,x2),n)]\n",
        "    #(x1,x2) is a token pair from line and n is its count at or above threshold\n",
        "    token_pairs = lines.map(lambda x: list(set(simple_tokenize(x))))\\\n",
        "    .flatMap(lambda x: [(x[i], x[j]) for i in range(len(x)) for j in range(len(x)) if x[i] != x[j]])\n",
        "    thresholded = token_pairs.map(lambda x: (x,1)).reduceByKey(lambda x,y: x+y)\\\n",
        "    .filter(lambda x: x[1]>=threshold)\n",
        "    #RDD where key is the first token of the pair to add that token's appearance count\n",
        "    token1 = thresholded.map(lambda x: (x[0][0], ((x[0][0], x[0][1]), x[1])))\\\n",
        "    .join(distinct).map(lambda x: (x[1][0][0],(x[1][0][1], x[1][1])))\n",
        "    #RDD where key is the second token of the pair to add that token's appearance count\n",
        "    token2 = thresholded.map(lambda x: (x[0][1], ((x[0][0], x[0][1]), x[1])))\\\n",
        "    .join(distinct).map(lambda x: (x[1][0][0],(x[1][0][1], x[1][1])))\n",
        "    #combine the RDDS involving the 2 tokens\n",
        "    combined = token1.join(token2)\n",
        "    #Create the final RDD in required format and calculate PMI\n",
        "    complete = combined.map(lambda x: (x[0], PMI_value(x[1][0][1], x[1][1][1], line_num, x[1][1][0]), x[1][1][0], x[1][0][1], x[1][1][1]))\n",
        "    return complete.collect()\n",
        "\n",
        "\n",
        "\n",
        "PMI(4000)"
      ]
    },
    {
      "cell_type": "markdown",
      "metadata": {
        "id": "R5QkpXFWbJxm"
      },
      "source": [
        "---\n",
        "#### Question 6  (6/30 marks):\n",
        "\n",
        "Finally, write Spark code for the function `PMI_one_token`, that will take a positive integer threshold $T$ and a sample size $N$ as arguments. For every token $x$ in `Shakespeare.txt`, your code should find all tokens $y$ that co-occur with $x$ at least $T$ times, as well as PMI$(x,y)$ for each such pair, the co-occurrence count of the pair, the number of times $x$ appears, and the number of times $y$ appears.\n",
        "\n",
        "For each $x$, the output of your program should be equivalent to the output that would be produced by a One-Token query on $x$ (see Assignment 1), with threshold $T$. Rather than producing output for all possible tokens $x$, the function should produce output only for $N$ different $x$'s, chosen uniformly at random from among the $x$'s with a non-empty list of co-occurrences.\n",
        "\n",
        "If there are fewer than $N$ different $x$'s, then the function should output all of them.  In other words, if $T$ is very large, the function would output nothing.\n",
        "\n",
        "Write your solution for question 6 by implementing the function `PMI_one_token` in the code cell below. It should use the `SparkContext` which was created previously (referenced by the variable `sc`). The function `PMI_one_token` should return a list of $N$ tuples of the form `(token, [ list_of_cooccurring_tokens ])`, where each entry in `list_of_cooccurring_tokens` is of the form `((token1, token2), pmi, cooc_count, token1_count, token2_count)`.\n",
        "\n",
        "For instance, if $N$ = 2 and the randomly selected tokens are \"if\" and \"you\", a valid format for the value returned by `PMI_one_token` would be:\n",
        "```\n",
        "[('if', [(('if', 'you'), -0.09813466615111513, 1975, 16624, 18237), (('if', 'a'), 0.03856379243802408, 1568, 16624, 10569)]), ('you', [(('you', 'if'), -0.09813466615111513, 1975, 18237, 16624)])]\n",
        "```\n",
        "\n",
        "Hint: Sampling must be done at the very last step.\n",
        "Hint: there is an action that returns a sample subset from an RDD. (`takeSample`)\n",
        "Note: You should be taking a \"stripes\" approach here. While you *can* use a pairs approach and then convert to stripes at the end, it's not as efficient."
      ]
    },
    {
      "cell_type": "code",
      "execution_count": 17,
      "metadata": {
        "id": "eUrjYZm6bJxn",
        "colab": {
          "base_uri": "https://localhost:8080/"
        },
        "outputId": "c55e3980-9372-4463-d103-05374cc502e8"
      },
      "outputs": [
        {
          "output_type": "execute_result",
          "data": {
            "text/plain": [
              "[('to', [(('to', 'the'), 0.05123525982989819, 4072, 18237, 24300)]),\n",
              " ('of', [(('of', 'the'), 0.34294075191889295, 7266, 16624, 24300)]),\n",
              " ('the',\n",
              "  [(('the', 'to'), 0.05123525982989819, 4072, 24300, 18237),\n",
              "   (('the', 'and'), 0.0459349918330654, 5427, 24300, 24604),\n",
              "   (('the', 'of'), 0.34294075191889295, 7266, 24300, 16624)]),\n",
              " ('and', [(('and', 'the'), 0.0459349918330654, 5427, 24604, 24300)])]"
            ]
          },
          "metadata": {},
          "execution_count": 17
        }
      ],
      "source": [
        "from simple_tokenize import simple_tokenize\n",
        "from math import log\n",
        "\n",
        "# Returns a list of samp_size tuples with the following format:\n",
        "# (token, [ list_of_cooccurring_tokens ])\n",
        "# where list_of_cooccurring_tokens is of the form\n",
        "# [((token1, token2), pmi, cooc_count, token1_count, token2_count), ...]\n",
        "def PMI_one_token(threshold, samp_size):\n",
        "    #Function to calculate the PMI value of a token pair\n",
        "    def PMI_value(token1_count, token2_count, line_num, pair_count):\n",
        "        p_token0 = token1_count/line_num\n",
        "        p_token1 = token2_count/line_num\n",
        "        #Probability of occurance of token pair\n",
        "        p_token_pair = pair_count/ line_num\n",
        "        return log(p_token_pair/(p_token0 * p_token1),10)\n",
        "    #RDD for all lines in Shakespeare.txt\n",
        "    lines = sc.textFile('Shakespeare.txt')\n",
        "    lines.cache()\n",
        "    #Number of lines in txt file\n",
        "    line_num = lines.count()\n",
        "    #List of all tokens in the file\n",
        "    tokens = lines.flatMap(lambda x: set(simple_tokenize(x)))\n",
        "    # Creates RDD of tuples with token count\n",
        "    distinct = tokens.map(lambda x: (x,1)).reduceByKey(lambda x,y: (x+y))\n",
        "    distinct.cache()\n",
        "    #creates an RDD of list [((x1,x2),n)]\n",
        "    #(x1,x2) is a token pair from line and n is its count at or above threshold\n",
        "    token_pairs = lines.map(lambda x: list(set(simple_tokenize(x))))\\\n",
        "    .flatMap(lambda x: [(x[i], x[j]) for i in range(len(x)) for j in range(len(x)) if x[i] != x[j]])\n",
        "    thresholded = token_pairs.map(lambda x: (x,1)).reduceByKey(lambda x,y: x+y)\\\n",
        "    .filter(lambda x: x[1]>=threshold)\n",
        "    #RDD where key is the first token of the pair to add that token's appearance count\n",
        "    token1 = thresholded.map(lambda x: (x[0][0], ((x[0][0], x[0][1]), x[1])))\\\n",
        "    .join(distinct).map(lambda x: (x[1][0][0],(x[1][0][1], x[1][1])))\n",
        "    #RDD where key is the second token of the pair to add that token's appearance count\n",
        "    token2 = thresholded.map(lambda x: (x[0][1], ((x[0][0], x[0][1]), x[1])))\\\n",
        "    .join(distinct).map(lambda x: (x[1][0][0],(x[1][0][1], x[1][1])))\n",
        "    #combine the RDDS involving the 2 tokens\n",
        "    combined = token1.join(token2)\n",
        "    #Create the final RDD in required format and calculate PMI\n",
        "    complete = combined.map(lambda x: (x[0], PMI_value(x[1][0][1], x[1][1][1], line_num, x[1][1][0]), x[1][1][0], x[1][0][1], x[1][1][1]))\n",
        "\n",
        "    #Group and map this RDD into stripes\n",
        "    stripe = complete.map(lambda x: (x[0][0] , x)).groupByKey().mapValues(list)\n",
        "    #Return a stripe of n random samples\n",
        "    return stripe.takeSample(withReplacement=False,num=samp_size,seed=800)\n",
        "\n",
        "PMI_one_token(4000,5)"
      ]
    },
    {
      "cell_type": "markdown",
      "metadata": {
        "id": "-9gADJ6wbJxo"
      },
      "source": [
        "---\n",
        "Don't forget to save your workbook!   When you are finished and you are ready to submit your assignment, download your notebook file (.ipynb) from the hub to your machine, and then follow the submission instructions in the assignment."
      ]
    }
  ],
  "metadata": {
    "colab": {
      "provenance": []
    },
    "kernelspec": {
      "display_name": "Python 3",
      "language": "python",
      "name": "python3"
    },
    "language_info": {
      "codemirror_mode": {
        "name": "ipython",
        "version": 3
      },
      "file_extension": ".py",
      "mimetype": "text/x-python",
      "name": "python",
      "nbconvert_exporter": "python",
      "pygments_lexer": "ipython3",
      "version": "3.6.8"
    }
  },
  "nbformat": 4,
  "nbformat_minor": 0
}